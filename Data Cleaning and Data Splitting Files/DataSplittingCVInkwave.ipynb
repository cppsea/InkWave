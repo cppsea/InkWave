{
 "cells": [
  {
   "cell_type": "code",
   "execution_count": 8,
   "id": "c7f3f7e3",
   "metadata": {},
   "outputs": [],
   "source": [
    "#This file splits data and then scales it \n",
    "import pandas as pd\n",
    "import numpy as np\n",
    "\n",
    "input_filename = \"InkWaveCVDataSet.tsv\"\n"
   ]
  },
  {
   "cell_type": "code",
   "execution_count": 9,
   "id": "8f9e4dcf",
   "metadata": {},
   "outputs": [],
   "source": [
    "# Read the TSV file\n",
    "total_data = pd.read_csv(input_filename, delimiter='\\t')\n",
    "\n",
    "# Shuffle the data\n",
    "total_data = total_data.sample(frac=1).reset_index(drop=True)\n",
    "\n",
    "# Calculate the sizes for each set\n",
    "total_size = len(total_data)\n",
    "train_size = int(0.7 * total_size)\n",
    "valid_size = int(0.1 * total_size)\n",
    "test_size = total_size - train_size - valid_size\n",
    "\n",
    "# Split the data into train, validation, and test sets\n",
    "train_data = total_data.iloc[:train_size]\n",
    "valid_data = total_data.iloc[train_size:train_size+valid_size]\n",
    "test_data = total_data.iloc[train_size+valid_size:]\n"
   ]
  },
  {
   "cell_type": "code",
   "execution_count": 10,
   "id": "020cfce0",
   "metadata": {},
   "outputs": [],
   "source": [
    "# Save each set to separate files if needed\n",
    "train_data.to_csv(\"trainCV.tsv\", sep='\\t', index=False)\n",
    "valid_data.to_csv(\"validCV.tsv\", sep='\\t', index=False)\n",
    "test_data.to_csv(\"testCV.tsv\", sep='\\t', index=False)\n"
   ]
  },
  {
   "cell_type": "code",
   "execution_count": 4,
   "id": "7dfe58d1",
   "metadata": {},
   "outputs": [],
   "source": [
    "import pandas as pd\n",
    "import shutil\n",
    "import os\n",
    "import multiprocessing"
   ]
  },
  {
   "cell_type": "code",
   "execution_count": null,
   "id": "1accf7a5",
   "metadata": {},
   "outputs": [],
   "source": []
  },
  {
   "cell_type": "code",
   "execution_count": null,
   "id": "0fb70cc4",
   "metadata": {},
   "outputs": [],
   "source": []
  },
  {
   "cell_type": "code",
   "execution_count": 5,
   "id": "035f97b7",
   "metadata": {},
   "outputs": [],
   "source": [
    "\n",
    "def copy_file(file_name, source_dir, destination_folder):\n",
    "    \"\"\"\n",
    "    Function to copy a file from source directory to a desired location.\n",
    "    \"\"\"\n",
    "    try:\n",
    "        shutil.copy(os.path.join(source_dir, file_name), destination_folder)\n",
    "        print(f\"File '{file_name}' copied to '{destination_folder}'\")\n",
    "    except Exception as e:\n",
    "        print(f\"Error copying file '{file_name}': {e}\")"
   ]
  },
  {
   "cell_type": "code",
   "execution_count": null,
   "id": "05eb718b",
   "metadata": {},
   "outputs": [],
   "source": [
    "\n",
    "if __name__ == \"__main__\":\n",
    "    # Read the TSV file\n",
    "    tsv_file_path = \"trainCV.tsv\"  # Provide the path to your TSV file\n",
    "    source_dir = r\"C:\\Users\\prern\\OneDrive\\Desktop\\Codes\\OLD codes\\CPP\\Spring24 Projects\\InkWave\\dataset\\imgs\\FinalDataSet\"  # Provide the path to the directory where the files are located\n",
    "\n",
    "    # Read the TSV file into a DataFrame\n",
    "    df = pd.read_csv(tsv_file_path, delimiter='\\t')\n",
    "\n",
    "    # Extract the column containing file names\n",
    "    file_names_column = \"path\"  # Replace with the name of the column containing file names\n",
    "    file_names = df[file_names_column].tolist()\n",
    "\n",
    "    # Destination directory (folder where you want to copy the images)\n",
    "    destination_folder = r\"C:\\Users\\prern\\OneDrive\\Desktop\\Codes\\OLD codes\\CPP\\Spring24 Projects\\InkWave\\dataset\\imgs\\TrainCVDataSet\"  # Modify this with your desired destination folder\n",
    "\n",
    "    if file_names:\n",
    "        # Number of worker processes\n",
    "        num_processes = multiprocessing.cpu_count()\n",
    "\n",
    "        # Create a multiprocessing pool\n",
    "        pool = multiprocessing.Pool(processes=num_processes)\n",
    "\n",
    "        # Use pool.map to apply the function to each file name in parallel\n",
    "        pool.starmap(copy_file, [(file_name, source_dir, destination_folder) for file_name in file_names]) #Function called here \n",
    "        print(\"Files copied successfully.\")\n",
    "\n",
    "        # Close the pool\n",
    "        pool.close()\n",
    "        pool.join()\n",
    "    else:\n",
    "        print(\"No file names found in TSV file. Make sure the column name is correct.\")\n"
   ]
  },
  {
   "cell_type": "code",
   "execution_count": null,
   "id": "42498a92",
   "metadata": {},
   "outputs": [],
   "source": [
    "\n",
    "if __name__ == \"__main__\":\n",
    "    # Read the TSV file\n",
    "    tsv_file_path = \"validCV.tsv\"  # Provide the path to your TSV file\n",
    "    source_dir = r\"C:\\Users\\prern\\OneDrive\\Desktop\\Codes\\OLD codes\\CPP\\Spring24 Projects\\InkWave\\dataset\\imgs\\FinalDataSet\"  # Provide the path to the directory where the files are located\n",
    "\n",
    "    # Read the TSV file into a DataFrame\n",
    "    df = pd.read_csv(tsv_file_path, delimiter='\\t')\n",
    "\n",
    "    # Extract the column containing file names\n",
    "    file_names_column = \"path\"  # Replace with the name of the column containing file names\n",
    "    file_names = df[file_names_column].tolist()\n",
    "\n",
    "    # Destination directory (folder where you want to copy the images)\n",
    "    destination_folder = r\"C:\\Users\\prern\\OneDrive\\Desktop\\Codes\\OLD codes\\CPP\\Spring24 Projects\\InkWave\\dataset\\imgs\\validateCVDataSet\"  # Modify this with your desired destination folder\n",
    "\n",
    "    if file_names:\n",
    "        # Number of worker processes\n",
    "        num_processes = multiprocessing.cpu_count()\n",
    "\n",
    "        # Create a multiprocessing pool\n",
    "        pool = multiprocessing.Pool(processes=num_processes)\n",
    "\n",
    "        # Use pool.map to apply the function to each file name in parallel\n",
    "        pool.starmap(copy_file, [(file_name, source_dir, destination_folder) for file_name in file_names]) #Function called here \n",
    "        print(\"Files copied successfully.\")\n",
    "\n",
    "        # Close the pool\n",
    "        pool.close()\n",
    "        pool.join()\n",
    "    else:\n",
    "        print(\"No file names found in TSV file. Make sure the column name is correct.\")\n"
   ]
  },
  {
   "cell_type": "code",
   "execution_count": null,
   "id": "284db1cb",
   "metadata": {},
   "outputs": [],
   "source": [
    "\n",
    "if __name__ == \"__main__\":\n",
    "    # Read the TSV file\n",
    "    tsv_file_path = \"testCV.tsv\"  # Provide the path to your TSV file\n",
    "    source_dir = r\"C:\\Users\\prern\\OneDrive\\Desktop\\Codes\\OLD codes\\CPP\\Spring24 Projects\\InkWave\\dataset\\imgs\\FinalDataSet\"  # Provide the path to the directory where the files are located\n",
    "\n",
    "    # Read the TSV file into a DataFrame\n",
    "    df = pd.read_csv(tsv_file_path, delimiter='\\t')\n",
    "\n",
    "    # Extract the column containing file names\n",
    "    file_names_column = \"path\"  # Replace with the name of the column containing file names\n",
    "    file_names = df[file_names_column].tolist()\n",
    "\n",
    "    # Destination directory (folder where you want to copy the images)\n",
    "    destination_folder = r\"C:\\Users\\prern\\OneDrive\\Desktop\\Codes\\OLD codes\\CPP\\Spring24 Projects\\InkWave\\dataset\\imgs\\TestCVDataSet\"  # Modify this with your desired destination folder\n",
    "\n",
    "    if file_names:\n",
    "        # Number of worker processes\n",
    "        num_processes = multiprocessing.cpu_count()\n",
    "\n",
    "        # Create a multiprocessing pool\n",
    "        pool = multiprocessing.Pool(processes=num_processes)\n",
    "\n",
    "        # Use pool.map to apply the function to each file name in parallel\n",
    "        pool.starmap(copy_file, [(file_name, source_dir, destination_folder) for file_name in file_names]) #Function called here \n",
    "        print(\"Files copied successfully.\")\n",
    "\n",
    "        # Close the pool\n",
    "        pool.close()\n",
    "        pool.join()\n",
    "    else:\n",
    "        print(\"No file names found in TSV file. Make sure the column name is correct.\")\n"
   ]
  }
 ],
 "metadata": {
  "kernelspec": {
   "display_name": "Python 3 (ipykernel)",
   "language": "python",
   "name": "python3"
  },
  "language_info": {
   "codemirror_mode": {
    "name": "ipython",
    "version": 3
   },
   "file_extension": ".py",
   "mimetype": "text/x-python",
   "name": "python",
   "nbconvert_exporter": "python",
   "pygments_lexer": "ipython3",
   "version": "3.9.13"
  }
 },
 "nbformat": 4,
 "nbformat_minor": 5
}
