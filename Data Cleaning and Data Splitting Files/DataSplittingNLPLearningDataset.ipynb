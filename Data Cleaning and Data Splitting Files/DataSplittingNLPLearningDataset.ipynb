{
 "cells": [
  {
   "cell_type": "code",
   "execution_count": 1,
   "id": "f8c1b493",
   "metadata": {},
   "outputs": [],
   "source": [
    "#This file splits data and then scales it \n",
    "import pandas as pd\n",
    "import numpy as np\n",
    "\n",
    "input_filename = \"NLPDataSetLearning.csv\"\n",
    "\n",
    "# Read the csv file\n",
    "total_data = pd.read_csv(input_filename)\n",
    "\n",
    "#train,valid,test = np.split(total_data.sample(frac=1), [int(0.7*len(data))], [int(0.8*len(data))])\n",
    "\n"
   ]
  },
  {
   "cell_type": "code",
   "execution_count": 3,
   "id": "09e647a7",
   "metadata": {},
   "outputs": [],
   "source": [
    "\n",
    "# Replace 'target_values' with a list of the target values you want to check\n",
    "target_values = [0,1]\n",
    "\n",
    "# Initialize empty dictionaries to store the splits\n",
    "train_splits = {target: None for target in target_values}\n",
    "valid_splits = {target: None for target in target_values}\n",
    "test_splits = {target: None for target in target_values}\n",
    "\n",
    "# Split the data for each target value\n",
    "for target in target_values:\n",
    "    target_data = total_data[total_data['labels'] == target]\n",
    "    train_splits[target] = target_data.sample(frac=0.7)\n",
    "    valid_splits[target] = target_data.sample(frac=0.1)\n",
    "    test_splits[target] = target_data.sample(frac=0.2)\n",
    "\n",
    "# Extract the resulting data splits for each target value\n",
    "train = pd.concat([train_splits[target] for target in target_values])\n",
    "valid = pd.concat([valid_splits[target] for target in target_values])\n",
    "test = pd.concat([test_splits[target] for target in target_values])\n",
    "\n"
   ]
  },
  {
   "cell_type": "code",
   "execution_count": 4,
   "id": "200f7eb7",
   "metadata": {},
   "outputs": [],
   "source": [
    "\n",
    "train.to_csv(\"trainNLP.csv\", index=False, float_format=\"%.5f\")\n",
    "valid.to_csv(\"validateNLP.csv\", index=False, float_format=\"%.5f\")\n",
    "test.to_csv(\"testNLP.csv\", index=False, float_format=\"%.5f\")"
   ]
  }
 ],
 "metadata": {
  "kernelspec": {
   "display_name": "Python 3 (ipykernel)",
   "language": "python",
   "name": "python3"
  },
  "language_info": {
   "codemirror_mode": {
    "name": "ipython",
    "version": 3
   },
   "file_extension": ".py",
   "mimetype": "text/x-python",
   "name": "python",
   "nbconvert_exporter": "python",
   "pygments_lexer": "ipython3",
   "version": "3.9.13"
  }
 },
 "nbformat": 4,
 "nbformat_minor": 5
}
