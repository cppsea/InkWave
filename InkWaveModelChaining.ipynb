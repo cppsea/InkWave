{
  "cells": [
    {
      "cell_type": "code",
      "execution_count": null,
      "metadata": {
        "id": "lyk9t4XF1g-N"
      },
      "outputs": [],
      "source": [
        "# Install the necessary libraries for Computer Vision Model\n",
        "!pip install paddlepaddle\n",
        "!pip install paddleocr"
      ]
    },
    {
      "cell_type": "code",
      "execution_count": null,
      "metadata": {
        "id": "C3OmBiBEFzhi"
      },
      "outputs": [],
      "source": [
        "#from google.colab import drive\n",
        "#drive.mount('/content/drive')"
      ]
    },
    {
      "cell_type": "code",
      "execution_count": null,
      "metadata": {
        "id": "HX9s87w22So8"
      },
      "outputs": [],
      "source": [
        "from CVModel import OCRProcessor\n",
        "\n",
        "# Create the CV processor object\n",
        "CV = OCRProcessor()\n",
        "\n",
        "# Process the input image\n",
        "CV.process_image()\n"
      ]
    },
    {
      "cell_type": "code",
      "execution_count": null,
      "metadata": {
        "id": "-4i5MHGV6v4P"
      },
      "outputs": [],
      "source": [
        "# Install the necessary libraries for LLM Model\n",
        "!pip install openai\n",
        "!pip install python-dotenv"
      ]
    },
    {
      "cell_type": "code",
      "execution_count": null,
      "metadata": {
        "id": "Y1vJh-eg_gt2"
      },
      "outputs": [],
      "source": [
        "# Set OpenAI Key as a session enviroment variable for LLM client\n",
        "%env OPENAI_API_KEY="
      ]
    },
    {
      "cell_type": "code",
      "execution_count": null,
      "metadata": {
        "colab": {
          "background_save": true
        },
        "id": "mtRTSDVmtsir"
      },
      "outputs": [],
      "source": [
        "# Change directory to where the files are located\n",
        "%cd /content/drive/MyDrive/InkWave Files\n",
        "\n",
        "import LLMModel"
      ]
    },
    {
      "cell_type": "code",
      "execution_count": null,
      "metadata": {
        "colab": {
          "background_save": true
        },
        "id": "F1E9PiooU8Et"
      },
      "outputs": [],
      "source": [
        "from LLMModel import LLMProcessor\n",
        "\n",
        "# Create the LLM Processor object\n",
        "LLM = LLMProcessor()\n",
        "\n",
        "# Process the input.txt document\n",
        "LLM.process_document()\n"
      ]
    },
    {
      "cell_type": "code",
      "execution_count": null,
      "metadata": {
        "id": "wcesi-Di7hRi"
      },
      "outputs": [],
      "source": [
        "!pip install regex\n",
        "!pip install NLTK\n",
        "!pip install pyhtml2pdf\n",
        "!pip install rake-nltk\n",
        "!pip install ipython"
      ]
    },
    {
      "cell_type": "code",
      "execution_count": null,
      "metadata": {
        "id": "0wFzSEOSWXja"
      },
      "outputs": [],
      "source": [
        "from NLPModel import NLPProcessor\n",
        "\n",
        "NLP = NLPProcessor()\n",
        "NLP()\n"
      ]
    },
    {
      "cell_type": "markdown",
      "metadata": {
        "id": "26Z31Qz5WZeJ"
      },
      "source": [
        "**NLP Model for Text Formatting**"
      ]
    },
    {
      "cell_type": "markdown",
      "metadata": {
        "id": "8Xvmb3BiBqG0"
      },
      "source": [
        "#InkWave Program"
      ]
    },
    {
      "cell_type": "markdown",
      "metadata": {
        "id": "E5yoWQjbBpq0"
      },
      "source": [
        "##Imports"
      ]
    },
    {
      "cell_type": "code",
      "execution_count": null,
      "metadata": {
        "id": "8Hmdx36Anuqa"
      },
      "outputs": [],
      "source": [
        "import cv2, os, gdown"
      ]
    },
    {
      "cell_type": "code",
      "execution_count": null,
      "metadata": {
        "id": "A8DqLL2Oe3mm"
      },
      "outputs": [],
      "source": [
        "!pip install paddlepaddle\n",
        "!pip install paddleocr"
      ]
    },
    {
      "cell_type": "code",
      "execution_count": null,
      "metadata": {
        "id": "RO6JsquA3yIs"
      },
      "outputs": [],
      "source": [
        "!pip install openai\n",
        "!pip install python-dotenv"
      ]
    },
    {
      "cell_type": "code",
      "execution_count": null,
      "metadata": {
        "id": "sWXSq-xCLxgS"
      },
      "outputs": [],
      "source": [
        "# Set OpenAI Key as a session enviroment variable for LLM client\n",
        "%env OPENAI_API_KEY="
      ]
    },
    {
      "cell_type": "code",
      "execution_count": null,
      "metadata": {
        "id": "dHcZpsJQB3on"
      },
      "outputs": [],
      "source": [
        "!pip install pyhtml2pdf\n",
        "!pip install rake_nltk\n",
        "!pip install IPython"
      ]
    },
    {
      "cell_type": "markdown",
      "metadata": {
        "id": "b9aRrKWfarW4"
      },
      "source": [
        "#Loading Models from Google Drive"
      ]
    },
    {
      "cell_type": "markdown",
      "metadata": {
        "id": "2fiBzRqVMKbE"
      },
      "source": [
        "Just load models from pc for now instead of loading from google drive aka DO NOT RUN THE NEXT 2 BLOCKS"
      ]
    },
    {
      "cell_type": "code",
      "execution_count": null,
      "metadata": {
        "id": "KXGa36SjeQIL"
      },
      "outputs": [],
      "source": [
        "#Function to load files from google drive\n",
        "def loadModel(modelID,modelFile):\n",
        "  if not os.path.isfile(modelFile):\n",
        "    # Downloading the file\n",
        "    gdown.download('https://drive.google.com/uc?id=' + modelID, modelFile, quiet=False)"
      ]
    },
    {
      "cell_type": "code",
      "execution_count": null,
      "metadata": {
        "id": "sHAy_3MQbAC1"
      },
      "outputs": [],
      "source": [
        "CVFileName = \"/CVModel.py\"\n",
        "CVFileID = '1ecSGiVyz2ZmGsdicz2lcvLuhVrwepNs'\n",
        "#loadModel(CVFileID,CVFileName)\n",
        "if not os.path.isfile(CVFileName):\n",
        "    # Downloading the file\n",
        "    gdown.download('https://drive.google.com/uc?id=' + CVFileID, CVFileName, quiet=False)\n",
        "\n",
        "LLMFileName = \"/LLMModel.py\"\n",
        "LLMFileID = '1szXOrcq5uOWBlkobwdRJOmRX81uyN6w7'\n",
        "loadModel(LLMFileID,LLMFileName)\n",
        "\n",
        "NLPFileName = \"/NLPModel.py\"\n",
        "NLPFileID = '1LBzUT0N6Ib1raoHHu-sskkpu_ThHDmnn'\n",
        "loadModel(NLPFileID,NLPFileName)\n"
      ]
    },
    {
      "cell_type": "markdown",
      "metadata": {
        "id": "KwolPIU-afId"
      },
      "source": [
        "#Importing the Models"
      ]
    },
    {
      "cell_type": "code",
      "execution_count": null,
      "metadata": {
        "id": "u9LZxzgZm15j"
      },
      "outputs": [],
      "source": []
    },
    {
      "cell_type": "code",
      "execution_count": null,
      "metadata": {
        "id": "klv-pr4LacEI"
      },
      "outputs": [],
      "source": [
        "#import CVModel\n",
        "from CVModel import OCRProcessor\n",
        "import LLMModel\n",
        "from LLMModel import LLMProcessor\n",
        "import NLPModel\n",
        "from NLPModel import NLPProcessor"
      ]
    },
    {
      "cell_type": "markdown",
      "metadata": {
        "id": "P-oACmX0CCCk"
      },
      "source": [
        "#Helper Functions for Model Implementations\n"
      ]
    },
    {
      "cell_type": "code",
      "execution_count": null,
      "metadata": {
        "id": "VOVVFzeJZ0da"
      },
      "outputs": [],
      "source": [
        "def cv_model(image_path):\n",
        "    CV = OCRProcessor()\n",
        "    result = CV.process_image(image_path)\n",
        "    return result\n",
        "\n",
        "def llm_model(document_path):\n",
        "    # Create the LLM Processor object\n",
        "    LLM = LLMProcessor()\n",
        "    # Process the input document\n",
        "    summary = LLM.process_document(document_path)\n",
        "    return summary\n",
        "\n",
        "def nlp_model(text):\n",
        "    NLP = NLPProcessor()\n",
        "    NLP.nlp_format(text)"
      ]
    },
    {
      "cell_type": "code",
      "execution_count": null,
      "metadata": {
        "id": "GwwpnhjLZ5Kv"
      },
      "outputs": [],
      "source": [
        "def main(image_path, output_pdf_path):\n",
        "    # Step 1: Use the CV model to extract text from image\n",
        "    extracted_text = cv_model(image_path)\n",
        "\n",
        "    # Step 2: Use the LLM model to process the extracted text\n",
        "    llm_processed_text = llm_model('input.txt') # Note from Tony: I changed the\n",
        "    # argument to 'input.txt' for testing purposes, you can change it back to whatever\n",
        "    # input text document you're using\n",
        "\n",
        "    # Step 3: Use the NLP model to further process the text\n",
        "    nlp_model(llm_processed_text)\n",
        "\n",
        "if __name__ == \"__main__\":\n",
        "    # Example usage\n",
        "    input_image_path = 'path_to_your_input_image.jpg'\n",
        "    output_pdf_path = 'output_file.pdf'\n",
        "    main(input_image_path, output_pdf_path)"
      ]
    },
    {
      "cell_type": "markdown",
      "metadata": {
        "id": "micJCbfIzojC"
      },
      "source": [
        "#Single Run Test For The Program"
      ]
    },
    {
      "cell_type": "code",
      "execution_count": null,
      "metadata": {
        "id": "yuExUfmvEXT4"
      },
      "outputs": [],
      "source": [
        "import cv2, os, gdown\n",
        "\n",
        "#Function to load files from google drive\n",
        "def openGdriveFile(file_id, file_name):\n",
        "  if not os.path.isfile(file_name):\n",
        "  # Downloading the file\n",
        "    gdown.download('https://drive.google.com/uc?id=' + file_id, file_name, quiet=False)\n",
        "\n",
        "#Importing models from Google Drive\n",
        "openGdriveFile('1jPCO41jm1ksI_4-Q8SlJ_KBEBqcoaJ8c','CVModel.py')\n",
        "openGdriveFile('1HwERTJBBSsWFbNgAPB5T4RZO4YhNc5yk','LLMModel.py')\n",
        "openGdriveFile('1L2H2Uct2ZBzCY2KrkOicq-NjJdwzZQgH','NLPModel.py')"
      ]
    },
    {
      "cell_type": "code",
      "execution_count": null,
      "metadata": {
        "id": "dEuBzCRCEAS0"
      },
      "outputs": [],
      "source": [
        "#External imports\n",
        "\n",
        "# Install the necessary libraries for Computer Vision Model\n",
        "!pip install paddlepaddle\n",
        "!pip install paddleocr\n",
        "\n",
        "# Install the necessary libraries for LLM Model\n",
        "!pip install openai\n",
        "!pip install python-dotenv\n",
        "# Set OpenAI Key as a session enviroment variable for LLM client\n",
        "%env OPENAI_API_KEY=\n",
        "\n",
        "# Install the necessary libraries for NLP Model\n",
        "!pip install regex\n",
        "!pip install NLTK\n",
        "!pip install pyhtml2pdf\n",
        "!pip install rake-nltk\n",
        "!pip install ipython\n"
      ]
    },
    {
      "cell_type": "code",
      "execution_count": null,
      "metadata": {
        "id": "L1PVYuMIznys"
      },
      "outputs": [],
      "source": [
        "#import statements\n",
        "import CVModel\n",
        "from CVModel import OCRProcessor\n",
        "import LLMModel\n",
        "from LLMModel import LLMProcessor\n",
        "import NLPModel\n",
        "from NLPModel import NLPProcessor\n",
        "\n",
        "def cv_model(image_path):\n",
        "    CV = OCRProcessor(image_path)\n",
        "    result = CV.process_image(image_path)\n",
        "    return result\n",
        "\n",
        "def llm_model(document_path):\n",
        "    # Create the LLM Processor object\n",
        "    LLM = LLMProcessor()\n",
        "    # Process the input document\n",
        "    summary = LLM.process_document(document_path)\n",
        "    return summary\n",
        "\n",
        "def nlp_model(text):\n",
        "    NLP = NLPProcessor()\n",
        "    finalFile = NLP.nlp_format(text)\n",
        "  #commenting out nlp parts will let the model work for now, it gives a txt output for now from LLM instead of the pdf one from nlp\n",
        "\n",
        "def main(image_path, output_pdf_path):\n",
        "    # Step 1: Use the CV model to extract text from image\n",
        "    extracted_text = cv_model(image_path)\n",
        "\n",
        "    # Step 2: Use the LLM model to process the extracted text\n",
        "    llm_processed_text = llm_model(extracted_text)\n",
        "\n",
        "    # Step 3: Use the NLP model to further process the text\n",
        "    nlp_model(llm_processed_text)\n",
        "\n",
        "if __name__ == \"__main__\":\n",
        "    # Example usage\n",
        "    input_image_path = 'testImage.jpeg'\n",
        "    output_pdf_path = 'test.pdf'\n",
        "    main(input_image_path, output_pdf_path)\n"
      ]
    }
  ],
  "metadata": {
    "colab": {
      "collapsed_sections": [
        "E5yoWQjbBpq0",
        "b9aRrKWfarW4"
      ],
      "provenance": []
    },
    "kernelspec": {
      "display_name": "Python 3",
      "name": "python3"
    },
    "language_info": {
      "name": "python"
    }
  },
  "nbformat": 4,
  "nbformat_minor": 0
}
